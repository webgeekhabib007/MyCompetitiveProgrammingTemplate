{
 "cells": [
  {
   "cell_type": "markdown",
   "metadata": {},
   "source": [
    "1. Range minimum query (RMQ): Finding the minimum value in a given range.\n",
    "2. Range maximum query (RMQ): Finding the maximum value in a given range.\n",
    "3. Range sum query: Finding the sum of values in a given range.\n",
    "4. Range XOR query: Finding the XOR of values in a given range.\n",
    "5. Range GCD query: Finding the greatest common divisor of values in a given range.\n",
    "6. Range LCM query: Finding the least common multiple of values in a given range.\n",
    "7. Range count of elements less than or equal to a given value: Counting the number of elements in a given range that are less than or equal to a specific value.\n",
    "8. Range count of distinct elements in a given range: Counting the number of distinct elements in a given range.\n",
    "9. Range count of occurrences of a specific value in a given range: Counting the number of occurrences of a specific value in a given range.\n",
    "10. Range median query: Finding the median value in a given range.\n",
    "11. Range mode query: Finding the most frequent value in a given range.\n",
    "12. Range rank query: Finding the rank of a specific value in a given range (i.e., its position if the range were sorted).\n",
    "13. Range percentile query: Finding the value at a specific percentile in a given range.\n",
    "14. Range average query: Finding the average of values in a given range.\n",
    "15. Range standard deviation query: Finding the standard deviation of values in a given range.\n",
    "16. Range variance query: Finding the variance of values in a given range.\n",
    "17. Range product query: Finding the product of values in a given range.\n",
    "18. Range closest pair query: Finding the closest pair of values in a given range.\n",
    "19. Range distinct elements count query: Finding the count of distinct elements in a given range.\n",
    "20. Range frequency query: Finding the frequency of a specific value in a given range.\n",
    "\n",
    "21. Range kth smallest/largest query: Finding the kth smallest or largest element in a given range.\n",
    "22. Range consecutive elements sum query: Finding the sum of consecutive elements in a given range.\n",
    "23. Range distinct element count query: Finding the count of distinct elements in a given range.\n",
    "24. Range majority element query: Finding the majority element (if it exists) in a given range.\n",
    "25. Range closest to value query: Finding the value closest to a specific target value in a given range.\n",
    "26. Range alternating sum query: Finding the alternating sum of values in a given range (e.g., sum of alternate elements).\n",
    "27. Range alternating product query: Finding the alternating product of values in a given range (e.g., product of alternate elements).\n",
    "28. Range closest pair sum query: Finding the sum of the closest pair of values in a given range.\n",
    "29. Range closest pair difference query: Finding the difference between the closest pair of values in a given range.\n",
    "30. Range distinct element count query: Finding the count of distinct elements in a given range.\n",
    "31. Range bit manipulation query: Performing bitwise operations (AND, OR, XOR) on values in a given range.\n",
    "32. Range geometric mean query: Finding the geometric mean of values in a given range.\n",
    "33. Range harmonic mean query: Finding the harmonic mean of values in a given range.\n",
    "34. Range power query: Finding the result of raising each element in a given range to a specific power.\n",
    "35. Range exponential sum query: Finding the sum of exponentials of values in a given range.\n",
    "36. Range logarithmic sum query: Finding the sum of logarithms of values in a given range.\n",
    "37. Range absolute difference query: Finding the absolute difference between pairs of values in a given range.\n",
    "38. Range maximum subarray sum query: Finding the maximum sum of a subarray within a given range.\n",
    "39. Range minimum subarray sum query: Finding the minimum sum of a subarray within a given range.\n",
    "40. Range majority element query: Finding the majority element (if it exists) in a given range.\n",
    "41. Range consecutive element product query: Finding the product of consecutive elements in a given range.\n",
    "42. Range consecutive element difference query: Finding the difference between consecutive elements in a given range.\n",
    "43. Range consecutive element division query: Finding the result of dividing consecutive elements in a given range."
   ]
  },
  {
   "cell_type": "markdown",
   "metadata": {},
   "source": [
    "## Problem 1: Range Mininmum Query"
   ]
  },
  {
   "cell_type": "code",
   "execution_count": 3,
   "metadata": {},
   "outputs": [
    {
     "name": "stdout",
     "output_type": "stream",
     "text": [
      "The minimum value in the range [2, 6] is: 1\n"
     ]
    }
   ],
   "source": [
    "import math\n",
    "\n",
    "class SparseTableMin:\n",
    "    def __init__(self, arr):\n",
    "        self.n = len(arr)\n",
    "        self.k = int(math.log2(self.n)) + 1\n",
    "        self.sparse_table = [[0] * self.k for _ in range(self.n)]\n",
    "\n",
    "        for i in range(self.n):\n",
    "            self.sparse_table[i][0] = arr[i]\n",
    "\n",
    "        j = 1\n",
    "        while (1 << j) <= self.n:\n",
    "            i = 0\n",
    "            while (i + (1 << j)) <= self.n:\n",
    "                self.sparse_table[i][j] = min(self.sparse_table[i][j - 1], self.sparse_table[i + (1 << (j - 1))][j - 1])\n",
    "                i += 1\n",
    "            j += 1\n",
    "\n",
    "    def query(self, l, r):\n",
    "        j = int(math.log2(r - l + 1))\n",
    "        return min(self.sparse_table[l][j], self.sparse_table[r - (1 << j) + 1][j])\n",
    "\n",
    "# Example usage\n",
    "arr = [2, 5, 1, 4, 9, 3, 6, 2, 8, 7]\n",
    "sparse_table = SparseTableMin(arr)\n",
    "l = 2\n",
    "r = 6\n",
    "result = sparse_table.query(l, r)\n",
    "print(f\"The minimum value in the range [{l}, {r}] is: {result}\")"
   ]
  },
  {
   "cell_type": "markdown",
   "metadata": {},
   "source": [
    "## Problem 2: Range Max Query Problem."
   ]
  },
  {
   "cell_type": "code",
   "execution_count": 6,
   "metadata": {},
   "outputs": [
    {
     "name": "stdout",
     "output_type": "stream",
     "text": [
      "The maximum value in the range [2, 6] is: 9\n"
     ]
    }
   ],
   "source": [
    "class SparseTableMax:\n",
    "    def __init__(self, arr):\n",
    "        self.n = len(arr)\n",
    "        self.k = (self.n).bit_length()  # Compute the log base 2 of n\n",
    "        self.sparse_table = [[0] * (self.k + 1) for _ in range(self.n)]\n",
    "        self.log_table = [0] * (self.n + 1)\n",
    "\n",
    "        # Precompute log values for later use\n",
    "        for i in range(2, self.n + 1):\n",
    "            self.log_table[i] = self.log_table[i // 2] + 1\n",
    "\n",
    "        for i in range(self.n):\n",
    "            self.sparse_table[i][0] = arr[i]\n",
    "\n",
    "        j = 1\n",
    "        while (1 << j) <= self.n:\n",
    "            i = 0\n",
    "            while (i + (1 << j) <= self.n):\n",
    "                self.sparse_table[i][j] = max(self.sparse_table[i][j - 1], self.sparse_table[i + (1 << (j - 1))][j - 1])\n",
    "                i += 1\n",
    "            j += 1\n",
    "\n",
    "    def query(self, l, r):\n",
    "        j = self.log_table[r - l + 1]\n",
    "        return max(self.sparse_table[l][j], self.sparse_table[r - (1 << j) + 1][j])\n",
    "\n",
    "# Example usage\n",
    "arr = [2, 5, 1, 4, 9, 3, 6, 2, 8, 7]\n",
    "sparse_table = SparseTableMax(arr)\n",
    "l = 2\n",
    "r = 6\n",
    "result = sparse_table.query(l, r)\n",
    "print(f\"The maximum value in the range [{l}, {r}] is: {result}\")"
   ]
  }
 ],
 "metadata": {
  "kernelspec": {
   "display_name": "base",
   "language": "python",
   "name": "python3"
  },
  "language_info": {
   "codemirror_mode": {
    "name": "ipython",
    "version": 3
   },
   "file_extension": ".py",
   "mimetype": "text/x-python",
   "name": "python",
   "nbconvert_exporter": "python",
   "pygments_lexer": "ipython3",
   "version": "undefined.undefined.undefined"
  }
 },
 "nbformat": 4,
 "nbformat_minor": 2
}
